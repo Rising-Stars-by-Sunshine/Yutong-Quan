{
 "cells": [
  {
   "cell_type": "code",
   "execution_count": 1,
   "id": "1088fe30",
   "metadata": {
    "_cell_guid": "b1076dfc-b9ad-4769-8c92-a6c4dae69d19",
    "_uuid": "8f2839f25d086af736a60e9eeb907d3b93b6e0e5",
    "execution": {
     "iopub.execute_input": "2022-11-16T08:25:06.846104Z",
     "iopub.status.busy": "2022-11-16T08:25:06.845342Z",
     "iopub.status.idle": "2022-11-16T08:25:06.857383Z",
     "shell.execute_reply": "2022-11-16T08:25:06.855804Z"
    },
    "papermill": {
     "duration": 0.022467,
     "end_time": "2022-11-16T08:25:06.860458",
     "exception": false,
     "start_time": "2022-11-16T08:25:06.837991",
     "status": "completed"
    },
    "tags": []
   },
   "outputs": [],
   "source": [
    "# This Python 3 environment comes with many helpful analytics libraries installed\n",
    "# It is defined by the kaggle/python Docker image: https://github.com/kaggle/docker-python\n",
    "# For example, here's several helpful packages to load\n",
    "\n",
    "import numpy as np # linear algebra\n",
    "import pandas as pd # data processing, CSV file I/O (e.g. pd.read_csv)\n",
    "\n",
    "# Input data files are available in the read-only \"../input/\" directory\n",
    "# For example, running this (by clicking run or pressing Shift+Enter) will list all files under the input directory\n",
    "\n",
    "import os\n",
    "for dirname, _, filenames in os.walk('/kaggle/input'):\n",
    "    for filename in filenames:\n",
    "        print(os.path.join(dirname, filename))\n",
    "\n",
    "# You can write up to 20GB to the current directory (/kaggle/working/) that gets preserved as output when you create a version using \"Save & Run All\" \n",
    "# You can also write temporary files to /kaggle/temp/, but they won't be saved outside of the current session"
   ]
  },
  {
   "cell_type": "markdown",
   "id": "da473e3e",
   "metadata": {
    "papermill": {
     "duration": 0.003814,
     "end_time": "2022-11-16T08:25:06.868729",
     "exception": false,
     "start_time": "2022-11-16T08:25:06.864915",
     "status": "completed"
    },
    "tags": []
   },
   "source": [
    "# Part I: Query Block Data"
   ]
  },
  {
   "cell_type": "code",
   "execution_count": 2,
   "id": "1b175671",
   "metadata": {
    "execution": {
     "iopub.execute_input": "2022-11-16T08:25:06.879339Z",
     "iopub.status.busy": "2022-11-16T08:25:06.878352Z",
     "iopub.status.idle": "2022-11-16T08:25:06.897923Z",
     "shell.execute_reply": "2022-11-16T08:25:06.896206Z"
    },
    "papermill": {
     "duration": 0.028047,
     "end_time": "2022-11-16T08:25:06.900808",
     "exception": false,
     "start_time": "2022-11-16T08:25:06.872761",
     "status": "completed"
    },
    "tags": []
   },
   "outputs": [
    {
     "name": "stdout",
     "output_type": "stream",
     "text": [
      "Using Kaggle's public dataset BigQuery integration.\n"
     ]
    }
   ],
   "source": [
    "from google.cloud import bigquery\n",
    "import pandas as pd\n",
    "import numpy as np\n",
    "from bq_helper import BigQueryHelper\n",
    "\n",
    "client = bigquery.Client()"
   ]
  },
  {
   "cell_type": "code",
   "execution_count": 3,
   "id": "c458cb99",
   "metadata": {
    "execution": {
     "iopub.execute_input": "2022-11-16T08:25:06.911696Z",
     "iopub.status.busy": "2022-11-16T08:25:06.911008Z",
     "iopub.status.idle": "2022-11-16T08:25:06.917768Z",
     "shell.execute_reply": "2022-11-16T08:25:06.916490Z"
    },
    "papermill": {
     "duration": 0.015846,
     "end_time": "2022-11-16T08:25:06.921031",
     "exception": false,
     "start_time": "2022-11-16T08:25:06.905185",
     "status": "completed"
    },
    "tags": []
   },
   "outputs": [
    {
     "name": "stdout",
     "output_type": "stream",
     "text": [
      "Using Kaggle's public dataset BigQuery integration.\n"
     ]
    }
   ],
   "source": [
    "bq_assistant = BigQueryHelper(\"bigquery-public-data\", \"github_repos\")"
   ]
  },
  {
   "cell_type": "code",
   "execution_count": 4,
   "id": "196e46b2",
   "metadata": {
    "execution": {
     "iopub.execute_input": "2022-11-16T08:25:06.932875Z",
     "iopub.status.busy": "2022-11-16T08:25:06.932444Z",
     "iopub.status.idle": "2022-11-16T08:25:06.938327Z",
     "shell.execute_reply": "2022-11-16T08:25:06.937363Z"
    },
    "papermill": {
     "duration": 0.015059,
     "end_time": "2022-11-16T08:25:06.941088",
     "exception": false,
     "start_time": "2022-11-16T08:25:06.926029",
     "status": "completed"
    },
    "tags": []
   },
   "outputs": [],
   "source": [
    "query = \"\"\" \n",
    "    SELECT number, size\n",
    "    FROM bigquery-public-data.crypto_ethereum.blocks \n",
    "    WHERE number BETWEEN 15537391 AND 15537395\n",
    "    ORDER BY number\n",
    "    LIMIT 10\n",
    "    \"\"\""
   ]
  },
  {
   "cell_type": "code",
   "execution_count": 5,
   "id": "3c1de9de",
   "metadata": {
    "execution": {
     "iopub.execute_input": "2022-11-16T08:25:06.952446Z",
     "iopub.status.busy": "2022-11-16T08:25:06.951370Z",
     "iopub.status.idle": "2022-11-16T08:25:09.150662Z",
     "shell.execute_reply": "2022-11-16T08:25:09.149381Z"
    },
    "papermill": {
     "duration": 2.207702,
     "end_time": "2022-11-16T08:25:09.153387",
     "exception": false,
     "start_time": "2022-11-16T08:25:06.945685",
     "status": "completed"
    },
    "tags": []
   },
   "outputs": [
    {
     "name": "stdout",
     "output_type": "stream",
     "text": [
      "CPU times: user 20.2 ms, sys: 3.02 ms, total: 23.3 ms\n",
      "Wall time: 2.19 s\n"
     ]
    },
    {
     "data": {
      "text/plain": [
       "0.23814041912555695"
      ]
     },
     "execution_count": 5,
     "metadata": {},
     "output_type": "execute_result"
    }
   ],
   "source": [
    "%%time\n",
    "bq_assistant.estimate_query_size(query)"
   ]
  },
  {
   "cell_type": "code",
   "execution_count": 6,
   "id": "020492c4",
   "metadata": {
    "execution": {
     "iopub.execute_input": "2022-11-16T08:25:09.164983Z",
     "iopub.status.busy": "2022-11-16T08:25:09.164344Z",
     "iopub.status.idle": "2022-11-16T08:25:19.195957Z",
     "shell.execute_reply": "2022-11-16T08:25:19.194741Z"
    },
    "papermill": {
     "duration": 10.040328,
     "end_time": "2022-11-16T08:25:19.198411",
     "exception": false,
     "start_time": "2022-11-16T08:25:09.158083",
     "status": "completed"
    },
    "tags": []
   },
   "outputs": [
    {
     "name": "stderr",
     "output_type": "stream",
     "text": [
      "/opt/conda/lib/python3.7/site-packages/google/cloud/bigquery/client.py:440: UserWarning: Cannot create BigQuery Storage client, the dependency google-cloud-bigquery-storage is not installed.\n",
      "  \"Cannot create BigQuery Storage client, the dependency \"\n"
     ]
    },
    {
     "data": {
      "text/html": [
       "<div>\n",
       "<style scoped>\n",
       "    .dataframe tbody tr th:only-of-type {\n",
       "        vertical-align: middle;\n",
       "    }\n",
       "\n",
       "    .dataframe tbody tr th {\n",
       "        vertical-align: top;\n",
       "    }\n",
       "\n",
       "    .dataframe thead th {\n",
       "        text-align: right;\n",
       "    }\n",
       "</style>\n",
       "<table border=\"1\" class=\"dataframe\">\n",
       "  <thead>\n",
       "    <tr style=\"text-align: right;\">\n",
       "      <th></th>\n",
       "      <th>number</th>\n",
       "      <th>size</th>\n",
       "    </tr>\n",
       "  </thead>\n",
       "  <tbody>\n",
       "    <tr>\n",
       "      <th>0</th>\n",
       "      <td>15537391</td>\n",
       "      <td>47274</td>\n",
       "    </tr>\n",
       "    <tr>\n",
       "      <th>1</th>\n",
       "      <td>15537392</td>\n",
       "      <td>16568</td>\n",
       "    </tr>\n",
       "    <tr>\n",
       "      <th>2</th>\n",
       "      <td>15537393</td>\n",
       "      <td>1636</td>\n",
       "    </tr>\n",
       "    <tr>\n",
       "      <th>3</th>\n",
       "      <td>15537394</td>\n",
       "      <td>18559</td>\n",
       "    </tr>\n",
       "    <tr>\n",
       "      <th>4</th>\n",
       "      <td>15537395</td>\n",
       "      <td>36978</td>\n",
       "    </tr>\n",
       "  </tbody>\n",
       "</table>\n",
       "</div>"
      ],
      "text/plain": [
       "     number   size\n",
       "0  15537391  47274\n",
       "1  15537392  16568\n",
       "2  15537393   1636\n",
       "3  15537394  18559\n",
       "4  15537395  36978"
      ]
     },
     "execution_count": 6,
     "metadata": {},
     "output_type": "execute_result"
    }
   ],
   "source": [
    "df_blocks = bq_assistant.query_to_pandas_safe(query)\n",
    "df_blocks.head()"
   ]
  },
  {
   "cell_type": "markdown",
   "id": "ace22996",
   "metadata": {
    "papermill": {
     "duration": 0.004481,
     "end_time": "2022-11-16T08:25:19.208171",
     "exception": false,
     "start_time": "2022-11-16T08:25:19.203690",
     "status": "completed"
    },
    "tags": []
   },
   "source": [
    "# Part II: Query Transaction Data"
   ]
  },
  {
   "cell_type": "code",
   "execution_count": 7,
   "id": "e8ccebe5",
   "metadata": {
    "execution": {
     "iopub.execute_input": "2022-11-16T08:25:19.220001Z",
     "iopub.status.busy": "2022-11-16T08:25:19.219576Z",
     "iopub.status.idle": "2022-11-16T08:25:19.224611Z",
     "shell.execute_reply": "2022-11-16T08:25:19.223415Z"
    },
    "papermill": {
     "duration": 0.014386,
     "end_time": "2022-11-16T08:25:19.227272",
     "exception": false,
     "start_time": "2022-11-16T08:25:19.212886",
     "status": "completed"
    },
    "tags": []
   },
   "outputs": [],
   "source": [
    "query = \"\"\" \n",
    "    SELECT block_number, transaction_index\n",
    "    FROM bigquery-public-data.crypto_ethereum.transactions \n",
    "    WHERE block_number BETWEEN 15537391 AND 15537395\n",
    "    ORDER BY block_number\n",
    "    LIMIT 10\n",
    "    \"\"\""
   ]
  },
  {
   "cell_type": "code",
   "execution_count": 8,
   "id": "1f899153",
   "metadata": {
    "execution": {
     "iopub.execute_input": "2022-11-16T08:25:19.239081Z",
     "iopub.status.busy": "2022-11-16T08:25:19.238400Z",
     "iopub.status.idle": "2022-11-16T08:25:21.528463Z",
     "shell.execute_reply": "2022-11-16T08:25:21.527187Z"
    },
    "papermill": {
     "duration": 2.298932,
     "end_time": "2022-11-16T08:25:21.531043",
     "exception": false,
     "start_time": "2022-11-16T08:25:19.232111",
     "status": "completed"
    },
    "tags": []
   },
   "outputs": [
    {
     "name": "stdout",
     "output_type": "stream",
     "text": [
      "CPU times: user 1.56 ms, sys: 2.81 ms, total: 4.37 ms\n",
      "Wall time: 2.28 s\n"
     ]
    },
    {
     "data": {
      "text/plain": [
       "26.524907022714615"
      ]
     },
     "execution_count": 8,
     "metadata": {},
     "output_type": "execute_result"
    }
   ],
   "source": [
    "%%time\n",
    "bq_assistant.estimate_query_size(query)"
   ]
  },
  {
   "cell_type": "code",
   "execution_count": 9,
   "id": "5c0f7fd6",
   "metadata": {
    "execution": {
     "iopub.execute_input": "2022-11-16T08:25:21.542839Z",
     "iopub.status.busy": "2022-11-16T08:25:21.542423Z",
     "iopub.status.idle": "2022-11-16T08:25:31.292049Z",
     "shell.execute_reply": "2022-11-16T08:25:31.290723Z"
    },
    "papermill": {
     "duration": 9.758575,
     "end_time": "2022-11-16T08:25:31.294626",
     "exception": false,
     "start_time": "2022-11-16T08:25:21.536051",
     "status": "completed"
    },
    "tags": []
   },
   "outputs": [
    {
     "name": "stderr",
     "output_type": "stream",
     "text": [
      "/opt/conda/lib/python3.7/site-packages/google/cloud/bigquery/client.py:440: UserWarning: Cannot create BigQuery Storage client, the dependency google-cloud-bigquery-storage is not installed.\n",
      "  \"Cannot create BigQuery Storage client, the dependency \"\n"
     ]
    },
    {
     "data": {
      "text/html": [
       "<div>\n",
       "<style scoped>\n",
       "    .dataframe tbody tr th:only-of-type {\n",
       "        vertical-align: middle;\n",
       "    }\n",
       "\n",
       "    .dataframe tbody tr th {\n",
       "        vertical-align: top;\n",
       "    }\n",
       "\n",
       "    .dataframe thead th {\n",
       "        text-align: right;\n",
       "    }\n",
       "</style>\n",
       "<table border=\"1\" class=\"dataframe\">\n",
       "  <thead>\n",
       "    <tr style=\"text-align: right;\">\n",
       "      <th></th>\n",
       "      <th>block_number</th>\n",
       "      <th>transaction_index</th>\n",
       "    </tr>\n",
       "  </thead>\n",
       "  <tbody>\n",
       "    <tr>\n",
       "      <th>0</th>\n",
       "      <td>15537391</td>\n",
       "      <td>12</td>\n",
       "    </tr>\n",
       "    <tr>\n",
       "      <th>1</th>\n",
       "      <td>15537391</td>\n",
       "      <td>31</td>\n",
       "    </tr>\n",
       "    <tr>\n",
       "      <th>2</th>\n",
       "      <td>15537391</td>\n",
       "      <td>11</td>\n",
       "    </tr>\n",
       "    <tr>\n",
       "      <th>3</th>\n",
       "      <td>15537391</td>\n",
       "      <td>101</td>\n",
       "    </tr>\n",
       "    <tr>\n",
       "      <th>4</th>\n",
       "      <td>15537391</td>\n",
       "      <td>95</td>\n",
       "    </tr>\n",
       "  </tbody>\n",
       "</table>\n",
       "</div>"
      ],
      "text/plain": [
       "   block_number  transaction_index\n",
       "0      15537391                 12\n",
       "1      15537391                 31\n",
       "2      15537391                 11\n",
       "3      15537391                101\n",
       "4      15537391                 95"
      ]
     },
     "execution_count": 9,
     "metadata": {},
     "output_type": "execute_result"
    }
   ],
   "source": [
    "df_transactions = bq_assistant.query_to_pandas_safe(query, max_gb_scanned = 27)\n",
    "df_transactions.head()"
   ]
  },
  {
   "cell_type": "markdown",
   "id": "915259c4",
   "metadata": {
    "papermill": {
     "duration": 0.005358,
     "end_time": "2022-11-16T08:25:31.305466",
     "exception": false,
     "start_time": "2022-11-16T08:25:31.300108",
     "status": "completed"
    },
    "tags": []
   },
   "source": [
    "# Part III: Query Token Transfer Data"
   ]
  },
  {
   "cell_type": "code",
   "execution_count": 10,
   "id": "83d8ee55",
   "metadata": {
    "execution": {
     "iopub.execute_input": "2022-11-16T08:25:31.318050Z",
     "iopub.status.busy": "2022-11-16T08:25:31.317666Z",
     "iopub.status.idle": "2022-11-16T08:25:31.322605Z",
     "shell.execute_reply": "2022-11-16T08:25:31.321182Z"
    },
    "papermill": {
     "duration": 0.014184,
     "end_time": "2022-11-16T08:25:31.325010",
     "exception": false,
     "start_time": "2022-11-16T08:25:31.310826",
     "status": "completed"
    },
    "tags": []
   },
   "outputs": [],
   "source": [
    "query = \"\"\" \n",
    "    SELECT block_number, log_index\n",
    "    FROM bigquery-public-data.crypto_ethereum.token_transfers\n",
    "    WHERE block_number BETWEEN 15537391 AND 15537395\n",
    "    ORDER BY block_number\n",
    "    LIMIT 10\n",
    "    \"\"\""
   ]
  },
  {
   "cell_type": "code",
   "execution_count": 11,
   "id": "8a3cbfe1",
   "metadata": {
    "execution": {
     "iopub.execute_input": "2022-11-16T08:25:31.337311Z",
     "iopub.status.busy": "2022-11-16T08:25:31.336905Z",
     "iopub.status.idle": "2022-11-16T08:25:33.832631Z",
     "shell.execute_reply": "2022-11-16T08:25:33.831359Z"
    },
    "papermill": {
     "duration": 2.504927,
     "end_time": "2022-11-16T08:25:33.835194",
     "exception": false,
     "start_time": "2022-11-16T08:25:31.330267",
     "status": "completed"
    },
    "tags": []
   },
   "outputs": [
    {
     "name": "stdout",
     "output_type": "stream",
     "text": [
      "CPU times: user 3.86 ms, sys: 983 µs, total: 4.84 ms\n",
      "Wall time: 2.49 s\n"
     ]
    },
    {
     "data": {
      "text/plain": [
       "18.434870347380638"
      ]
     },
     "execution_count": 11,
     "metadata": {},
     "output_type": "execute_result"
    }
   ],
   "source": [
    "%%time\n",
    "bq_assistant.estimate_query_size(query)"
   ]
  },
  {
   "cell_type": "code",
   "execution_count": 12,
   "id": "f603c268",
   "metadata": {
    "execution": {
     "iopub.execute_input": "2022-11-16T08:25:33.849260Z",
     "iopub.status.busy": "2022-11-16T08:25:33.848887Z",
     "iopub.status.idle": "2022-11-16T08:25:43.073365Z",
     "shell.execute_reply": "2022-11-16T08:25:43.072058Z"
    },
    "papermill": {
     "duration": 9.235968,
     "end_time": "2022-11-16T08:25:43.076713",
     "exception": false,
     "start_time": "2022-11-16T08:25:33.840745",
     "status": "completed"
    },
    "tags": []
   },
   "outputs": [
    {
     "name": "stderr",
     "output_type": "stream",
     "text": [
      "/opt/conda/lib/python3.7/site-packages/google/cloud/bigquery/client.py:440: UserWarning: Cannot create BigQuery Storage client, the dependency google-cloud-bigquery-storage is not installed.\n",
      "  \"Cannot create BigQuery Storage client, the dependency \"\n"
     ]
    },
    {
     "data": {
      "text/html": [
       "<div>\n",
       "<style scoped>\n",
       "    .dataframe tbody tr th:only-of-type {\n",
       "        vertical-align: middle;\n",
       "    }\n",
       "\n",
       "    .dataframe tbody tr th {\n",
       "        vertical-align: top;\n",
       "    }\n",
       "\n",
       "    .dataframe thead th {\n",
       "        text-align: right;\n",
       "    }\n",
       "</style>\n",
       "<table border=\"1\" class=\"dataframe\">\n",
       "  <thead>\n",
       "    <tr style=\"text-align: right;\">\n",
       "      <th></th>\n",
       "      <th>block_number</th>\n",
       "      <th>log_index</th>\n",
       "    </tr>\n",
       "  </thead>\n",
       "  <tbody>\n",
       "    <tr>\n",
       "      <th>0</th>\n",
       "      <td>15537391</td>\n",
       "      <td>83</td>\n",
       "    </tr>\n",
       "    <tr>\n",
       "      <th>1</th>\n",
       "      <td>15537391</td>\n",
       "      <td>112</td>\n",
       "    </tr>\n",
       "    <tr>\n",
       "      <th>2</th>\n",
       "      <td>15537391</td>\n",
       "      <td>74</td>\n",
       "    </tr>\n",
       "    <tr>\n",
       "      <th>3</th>\n",
       "      <td>15537391</td>\n",
       "      <td>44</td>\n",
       "    </tr>\n",
       "    <tr>\n",
       "      <th>4</th>\n",
       "      <td>15537391</td>\n",
       "      <td>61</td>\n",
       "    </tr>\n",
       "  </tbody>\n",
       "</table>\n",
       "</div>"
      ],
      "text/plain": [
       "   block_number  log_index\n",
       "0      15537391         83\n",
       "1      15537391        112\n",
       "2      15537391         74\n",
       "3      15537391         44\n",
       "4      15537391         61"
      ]
     },
     "execution_count": 12,
     "metadata": {},
     "output_type": "execute_result"
    }
   ],
   "source": [
    "df_token_transfers = bq_assistant.query_to_pandas_safe(query, max_gb_scanned = 19)\n",
    "df_token_transfers.head()"
   ]
  }
 ],
 "metadata": {
  "kernelspec": {
   "display_name": "Python 3",
   "language": "python",
   "name": "python3"
  },
  "language_info": {
   "codemirror_mode": {
    "name": "ipython",
    "version": 3
   },
   "file_extension": ".py",
   "mimetype": "text/x-python",
   "name": "python",
   "nbconvert_exporter": "python",
   "pygments_lexer": "ipython3",
   "version": "3.7.12"
  },
  "papermill": {
   "default_parameters": {},
   "duration": 46.835168,
   "end_time": "2022-11-16T08:25:43.806205",
   "environment_variables": {},
   "exception": null,
   "input_path": "__notebook__.ipynb",
   "output_path": "__notebook__.ipynb",
   "parameters": {},
   "start_time": "2022-11-16T08:24:56.971037",
   "version": "2.3.4"
  }
 },
 "nbformat": 4,
 "nbformat_minor": 5
}
